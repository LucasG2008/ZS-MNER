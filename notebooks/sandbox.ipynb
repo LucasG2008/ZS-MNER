{
 "cells": [
  {
   "cell_type": "markdown",
   "metadata": {},
   "source": [
    "**Data Loading**"
   ]
  },
  {
   "cell_type": "code",
   "execution_count": 3,
   "metadata": {},
   "outputs": [
    {
     "ename": "ImportError",
     "evalue": "attempted relative import with no known parent package",
     "output_type": "error",
     "traceback": [
      "\u001b[1;31m---------------------------------------------------------------------------\u001b[0m",
      "\u001b[1;31mImportError\u001b[0m                               Traceback (most recent call last)",
      "Cell \u001b[1;32mIn[3], line 22\u001b[0m\n\u001b[0;32m     17\u001b[0m germanic_romance_langs \u001b[38;5;241m=\u001b[39m [\u001b[38;5;124m\"\u001b[39m\u001b[38;5;124maf\u001b[39m\u001b[38;5;124m\"\u001b[39m, \u001b[38;5;124m\"\u001b[39m\u001b[38;5;124mde\u001b[39m\u001b[38;5;124m\"\u001b[39m, \u001b[38;5;124m\"\u001b[39m\u001b[38;5;124men\u001b[39m\u001b[38;5;124m\"\u001b[39m, \u001b[38;5;124m\"\u001b[39m\u001b[38;5;124mes\u001b[39m\u001b[38;5;124m\"\u001b[39m, \u001b[38;5;124m\"\u001b[39m\u001b[38;5;124mfr\u001b[39m\u001b[38;5;124m\"\u001b[39m, \u001b[38;5;124m\"\u001b[39m\u001b[38;5;124mit\u001b[39m\u001b[38;5;124m\"\u001b[39m, \u001b[38;5;124m\"\u001b[39m\u001b[38;5;124mnl\u001b[39m\u001b[38;5;124m\"\u001b[39m, \u001b[38;5;124m\"\u001b[39m\u001b[38;5;124mpt\u001b[39m\u001b[38;5;124m\"\u001b[39m]\n\u001b[0;32m     19\u001b[0m complete_langs \u001b[38;5;241m=\u001b[39m [\u001b[38;5;124m\"\u001b[39m\u001b[38;5;124maf\u001b[39m\u001b[38;5;124m\"\u001b[39m, \u001b[38;5;124m\"\u001b[39m\u001b[38;5;124mar\u001b[39m\u001b[38;5;124m\"\u001b[39m, \u001b[38;5;124m\"\u001b[39m\u001b[38;5;124mbg\u001b[39m\u001b[38;5;124m\"\u001b[39m, \u001b[38;5;124m\"\u001b[39m\u001b[38;5;124mbn\u001b[39m\u001b[38;5;124m\"\u001b[39m, \u001b[38;5;124m\"\u001b[39m\u001b[38;5;124mde\u001b[39m\u001b[38;5;124m\"\u001b[39m, \u001b[38;5;124m\"\u001b[39m\u001b[38;5;124mel\u001b[39m\u001b[38;5;124m\"\u001b[39m, \u001b[38;5;124m\"\u001b[39m\u001b[38;5;124men\u001b[39m\u001b[38;5;124m\"\u001b[39m, \u001b[38;5;124m\"\u001b[39m\u001b[38;5;124mes\u001b[39m\u001b[38;5;124m\"\u001b[39m, \u001b[38;5;124m\"\u001b[39m\u001b[38;5;124met\u001b[39m\u001b[38;5;124m\"\u001b[39m, \u001b[38;5;124m\"\u001b[39m\u001b[38;5;124meu\u001b[39m\u001b[38;5;124m\"\u001b[39m, \u001b[38;5;124m\"\u001b[39m\u001b[38;5;124mfa\u001b[39m\u001b[38;5;124m\"\u001b[39m, \u001b[38;5;124m\"\u001b[39m\u001b[38;5;124mfi\u001b[39m\u001b[38;5;124m\"\u001b[39m, \u001b[38;5;124m\"\u001b[39m\u001b[38;5;124mfr\u001b[39m\u001b[38;5;124m\"\u001b[39m, \u001b[38;5;124m\"\u001b[39m\u001b[38;5;124mhe\u001b[39m\u001b[38;5;124m\"\u001b[39m, \u001b[38;5;124m\"\u001b[39m\u001b[38;5;124mhi\u001b[39m\u001b[38;5;124m\"\u001b[39m, \u001b[38;5;124m\"\u001b[39m\u001b[38;5;124mhu\u001b[39m\u001b[38;5;124m\"\u001b[39m, \u001b[38;5;124m\"\u001b[39m\u001b[38;5;124mid\u001b[39m\u001b[38;5;124m\"\u001b[39m, \u001b[38;5;124m\"\u001b[39m\u001b[38;5;124mit\u001b[39m\u001b[38;5;124m\"\u001b[39m, \u001b[38;5;124m\"\u001b[39m\u001b[38;5;124mja\u001b[39m\u001b[38;5;124m\"\u001b[39m, \u001b[38;5;124m\"\u001b[39m\u001b[38;5;124mjv\u001b[39m\u001b[38;5;124m\"\u001b[39m, \\\n\u001b[0;32m     20\u001b[0m                   \u001b[38;5;124m\"\u001b[39m\u001b[38;5;124mka\u001b[39m\u001b[38;5;124m\"\u001b[39m, \u001b[38;5;124m\"\u001b[39m\u001b[38;5;124mkk\u001b[39m\u001b[38;5;124m\"\u001b[39m, \u001b[38;5;124m\"\u001b[39m\u001b[38;5;124mko\u001b[39m\u001b[38;5;124m\"\u001b[39m, \u001b[38;5;124m\"\u001b[39m\u001b[38;5;124mml\u001b[39m\u001b[38;5;124m\"\u001b[39m, \u001b[38;5;124m\"\u001b[39m\u001b[38;5;124mmr\u001b[39m\u001b[38;5;124m\"\u001b[39m, \u001b[38;5;124m\"\u001b[39m\u001b[38;5;124mms\u001b[39m\u001b[38;5;124m\"\u001b[39m, \u001b[38;5;124m\"\u001b[39m\u001b[38;5;124mmy\u001b[39m\u001b[38;5;124m\"\u001b[39m, \u001b[38;5;124m\"\u001b[39m\u001b[38;5;124mnl\u001b[39m\u001b[38;5;124m\"\u001b[39m, \u001b[38;5;124m\"\u001b[39m\u001b[38;5;124mpt\u001b[39m\u001b[38;5;124m\"\u001b[39m, \u001b[38;5;124m\"\u001b[39m\u001b[38;5;124mru\u001b[39m\u001b[38;5;124m\"\u001b[39m, \u001b[38;5;124m\"\u001b[39m\u001b[38;5;124msw\u001b[39m\u001b[38;5;124m\"\u001b[39m, \u001b[38;5;124m\"\u001b[39m\u001b[38;5;124mta\u001b[39m\u001b[38;5;124m\"\u001b[39m, \u001b[38;5;124m\"\u001b[39m\u001b[38;5;124mte\u001b[39m\u001b[38;5;124m\"\u001b[39m, \u001b[38;5;124m\"\u001b[39m\u001b[38;5;124mth\u001b[39m\u001b[38;5;124m\"\u001b[39m, \u001b[38;5;124m\"\u001b[39m\u001b[38;5;124mtl\u001b[39m\u001b[38;5;124m\"\u001b[39m, \u001b[38;5;124m\"\u001b[39m\u001b[38;5;124mtr\u001b[39m\u001b[38;5;124m\"\u001b[39m, \u001b[38;5;124m\"\u001b[39m\u001b[38;5;124mur\u001b[39m\u001b[38;5;124m\"\u001b[39m, \u001b[38;5;124m\"\u001b[39m\u001b[38;5;124mvi\u001b[39m\u001b[38;5;124m\"\u001b[39m, \u001b[38;5;124m\"\u001b[39m\u001b[38;5;124myo\u001b[39m\u001b[38;5;124m\"\u001b[39m, \u001b[38;5;124m\"\u001b[39m\u001b[38;5;124mzh\u001b[39m\u001b[38;5;124m\"\u001b[39m]\n\u001b[1;32m---> 22\u001b[0m \u001b[38;5;28;01mfrom\u001b[39;00m \u001b[38;5;21;01m.\u001b[39;00m\u001b[38;5;21;01m.\u001b[39;00m\u001b[38;5;21;01msrc\u001b[39;00m\u001b[38;5;21;01m.\u001b[39;00m\u001b[38;5;21;01mdata\u001b[39;00m\u001b[38;5;21;01m.\u001b[39;00m\u001b[38;5;21;01mpanx_loader\u001b[39;00m \u001b[38;5;28;01mimport\u001b[39;00m PANX_dataloader\n\u001b[0;32m     24\u001b[0m dataloader \u001b[38;5;241m=\u001b[39m PANX_dataloader(langs\u001b[38;5;241m=\u001b[39m[\u001b[38;5;124m\"\u001b[39m\u001b[38;5;124men\u001b[39m\u001b[38;5;124m\"\u001b[39m], nrows\u001b[38;5;241m=\u001b[39m\u001b[38;5;241m100\u001b[39m)\n\u001b[0;32m     25\u001b[0m df_train, df_val, df_test \u001b[38;5;241m=\u001b[39m dataloader\u001b[38;5;241m.\u001b[39mload_training_data()\n",
      "\u001b[1;31mImportError\u001b[0m: attempted relative import with no known parent package"
     ]
    }
   ],
   "source": [
    "variety_languages = [\"en\", \"es\", \"ar\", \"zh\", \"ru\", \"hi\", \"sw\", \"tr\", \"ja\", \"fr\", \"ms\", \"ko\"]\n",
    "\"\"\"\n",
    "Variety Languages:\n",
    "en - English\n",
    "es - Spanish\n",
    "ar - Arabic\n",
    "zh - Chinese\n",
    "ru - Russian \n",
    "hi - Hindi\n",
    "sw - Swahili\n",
    "tr - Turkish\n",
    "ja - Japanese\n",
    "fr - French\n",
    "ms - Malay/Indonesian\n",
    "ko - Korean\n",
    "\"\"\"\n",
    "germanic_romance_langs = [\"af\", \"de\", \"en\", \"es\", \"fr\", \"it\", \"nl\", \"pt\"]\n",
    "\n",
    "complete_langs = [\"af\", \"ar\", \"bg\", \"bn\", \"de\", \"el\", \"en\", \"es\", \"et\", \"eu\", \"fa\", \"fi\", \"fr\", \"he\", \"hi\", \"hu\", \"id\", \"it\", \"ja\", \"jv\", \\\n",
    "                  \"ka\", \"kk\", \"ko\", \"ml\", \"mr\", \"ms\", \"my\", \"nl\", \"pt\", \"ru\", \"sw\", \"ta\", \"te\", \"th\", \"tl\", \"tr\", \"ur\", \"vi\", \"yo\", \"zh\"]\n",
    "\n",
    "from src.data.panx_loader import PANX_dataloader\n",
    "\n",
    "dataloader = PANX_dataloader(langs=[\"en\"], nrows=100)\n",
    "df_train, df_val, df_test = dataloader.load_training_data()"
   ]
  },
  {
   "cell_type": "code",
   "execution_count": 2,
   "metadata": {},
   "outputs": [
    {
     "data": {
      "text/plain": [
       "<Axes: >"
      ]
     },
     "execution_count": 2,
     "metadata": {},
     "output_type": "execute_result"
    },
    {
     "data": {
      "image/png": "[encoded data removed]",
      "text/plain": [
       "<Figure size 1000x300 with 1 Axes>"
      ]
     },
     "metadata": {},
     "output_type": "display_data"
    }
   ],
   "source": [
    "import json\n",
    "import seaborn as sns\n",
    "import matplotlib.pyplot as plt\n",
    "import numpy as np\n",
    "\n",
    "plt.figure(figsize=(10, 3))\n",
    "\n",
    "with open('../src/data/model_performance/var_model_accuracy.json') as f:\n",
    "    var_rom_accuracy = json.load(f)\n",
    "\n",
    "keys = list(var_rom_accuracy.keys())\n",
    "values = list(var_rom_accuracy.values())\n",
    "sorted_value_index = np.argsort(values)[::-1]\n",
    "sorted_dict = {keys[i]: values[i] for i in sorted_value_index}\n",
    "\n",
    "sns.barplot(x=list(sorted_dict.keys()), y=list(sorted_dict.values()))"
   ]
  },
  {
   "cell_type": "code",
   "execution_count": 4,
   "metadata": {},
   "outputs": [
    {
     "name": "stdout",
     "output_type": "stream",
     "text": [
      "0.9264163970947266\n",
      "0.9551864862442017\n",
      "0.9475671648979187\n",
      "0.9446067214012146\n",
      "0.9493586421012878\n",
      "0.9450414776802063\n",
      "0.9584344625473022\n",
      "0.9612674713134766\n",
      "0.9036403894424438\n",
      "0.9497711658477783\n",
      "0.969239354133606\n",
      "0.9430087804794312\n"
     ]
    }
   ],
   "source": [
    "variety_languages = [\"en\", \"es\", \"ar\", \"zh\", \"ru\", \"hi\", \"sw\", \"tr\", \"ja\", \"fr\", \"ms\", \"ko\"]\n",
    "\n",
    "for lang in variety_languages:\n",
    "    print(sorted_dict[lang])"
   ]
  },
  {
   "cell_type": "code",
   "execution_count": 5,
   "metadata": {},
   "outputs": [
    {
     "name": "stderr",
     "output_type": "stream",
     "text": [
      "Some weights of BertForTokenClassification were not initialized from the model checkpoint at bert-base-multilingual-cased and are newly initialized: ['classifier.bias', 'classifier.weight']\n",
      "You should probably TRAIN this model on a down-stream task to be able to use it for predictions and inference.\n"
     ]
    },
    {
     "name": "stdout",
     "output_type": "stream",
     "text": [
      "Training Loop Configuration\n",
      "\n"
     ]
    },
    {
     "ename": "TypeError",
     "evalue": "'module' object is not callable",
     "output_type": "error",
     "traceback": [
      "\u001b[1;31m---------------------------------------------------------------------------\u001b[0m",
      "\u001b[1;31mTypeError\u001b[0m                                 Traceback (most recent call last)",
      "Cell \u001b[1;32mIn[5], line 16\u001b[0m\n\u001b[0;32m     12\u001b[0m tokenizer \u001b[38;5;241m=\u001b[39m BertTokenizerFast\u001b[38;5;241m.\u001b[39mfrom_pretrained(\u001b[38;5;124m'\u001b[39m\u001b[38;5;124mbert-base-multilingual-cased\u001b[39m\u001b[38;5;124m'\u001b[39m)\n\u001b[0;32m     13\u001b[0m model \u001b[38;5;241m=\u001b[39m BertModel(\u001b[38;5;241m7\u001b[39m)\n\u001b[1;32m---> 16\u001b[0m \u001b[43mprint_training_config\u001b[49m\u001b[43m(\u001b[49m\u001b[43mlanguages\u001b[49m\u001b[43m,\u001b[49m\u001b[43m \u001b[49m\u001b[43mnrows\u001b[49m\u001b[43m,\u001b[49m\u001b[43m \u001b[49m\u001b[43mmodel\u001b[49m\u001b[38;5;241;43m.\u001b[39;49m\u001b[43mbert\u001b[49m\u001b[43m,\u001b[49m\u001b[43m \u001b[49m\u001b[43mtokenizer\u001b[49m\u001b[43m,\u001b[49m\u001b[43m \u001b[49m\u001b[43mmodel_params\u001b[49m\u001b[43m)\u001b[49m\n",
      "File \u001b[1;32mc:\\Users\\lucas\\Documents\\NLP_Research\\ZS-MNER\\src\\utils\\print_configuration.py:35\u001b[0m, in \u001b[0;36mprint_training_config\u001b[1;34m(languages, nrows, model, tokenizer, model_params)\u001b[0m\n\u001b[0;32m     33\u001b[0m \u001b[38;5;66;03m# Print the configuration\u001b[39;00m\n\u001b[0;32m     34\u001b[0m \u001b[38;5;28mprint\u001b[39m(\u001b[38;5;124m\"\u001b[39m\u001b[38;5;124mTraining Loop Configuration\u001b[39m\u001b[38;5;130;01m\\n\u001b[39;00m\u001b[38;5;124m\"\u001b[39m)\n\u001b[1;32m---> 35\u001b[0m \u001b[38;5;28mprint\u001b[39m(\u001b[43mtabulate\u001b[49m\u001b[43m(\u001b[49m\u001b[43mconfig_data\u001b[49m\u001b[43m,\u001b[49m\u001b[43m \u001b[49m\u001b[43mheaders\u001b[49m\u001b[38;5;241;43m=\u001b[39;49m\u001b[43mheaders\u001b[49m\u001b[43m,\u001b[49m\u001b[43m \u001b[49m\u001b[43mtablefmt\u001b[49m\u001b[38;5;241;43m=\u001b[39;49m\u001b[38;5;124;43m\"\u001b[39;49m\u001b[38;5;124;43mgrid\u001b[39;49m\u001b[38;5;124;43m\"\u001b[39;49m\u001b[43m)\u001b[49m)\n",
      "\u001b[1;31mTypeError\u001b[0m: 'module' object is not callable"
     ]
    }
   ],
   "source": [
    "from src.models.bert_model import BertModel\n",
    "from transformers import BertTokenizerFast\n",
    "from src.utils.print_configuration import print_training_config\n",
    "\n",
    "languages = [\"en\", \"es\", \"ar\", \"zh\", \"ru\", \"hi\", \"sw\", \"tr\", \"ja\", \"fr\", \"ms\", \"ko\"]\n",
    "model_params = {\n",
    "    'learning_rate': 3e-3,\n",
    "    'epochs': 5,\n",
    "    'batch_size': 2,\n",
    "}\n",
    "nrows = 500\n",
    "tokenizer = BertTokenizerFast.from_pretrained('bert-base-multilingual-cased')\n",
    "model = BertModel(7)\n",
    "\n",
    "\n",
    "print_training_config(languages, nrows, model.bert, tokenizer, model_params)"
   ]
  },
  {
   "cell_type": "code",
   "execution_count": 9,
   "metadata": {},
   "outputs": [
    {
     "name": "stderr",
     "output_type": "stream",
     "text": [
      "c:\\Users\\lucas\\anaconda3\\envs\\nlp_rsrch\\Lib\\site-packages\\tqdm\\auto.py:21: TqdmWarning: IProgress not found. Please update jupyter and ipywidgets. See https://ipywidgets.readthedocs.io/en/stable/user_install.html\n",
      "  from .autonotebook import tqdm as notebook_tqdm\n",
      "Some weights of BertForTokenClassification were not initialized from the model checkpoint at bert-base-multilingual-cased and are newly initialized: ['classifier.bias', 'classifier.weight']\n",
      "You should probably TRAIN this model on a down-stream task to be able to use it for predictions and inference.\n"
     ]
    },
    {
     "name": "stdout",
     "output_type": "stream",
     "text": [
      "=== Training Configuration ===\n",
      "+-----------+-----------------------------------------+--------+\n",
      "| Languages | en, es, ar, zh, ru, hi, sw, tr, ja, fr, | ms, ko |\n",
      "+-----------+-----------------------------------------+--------+\n",
      "+----------------+---------+\n",
      "| Parameter      |   Value |\n",
      "+================+=========+\n",
      "| learning_rate  |   0.003 |\n",
      "+----------------+---------+\n",
      "| epochs         |   5     |\n",
      "+----------------+---------+\n",
      "| batch_size     |   2     |\n",
      "+----------------+---------+\n",
      "| Number of Rows | 500     |\n",
      "+----------------+---------+\n",
      "\n",
      "=== Tokenizer ===\n",
      "bert-base-multilingual-cased\n",
      "\n",
      "=== Model ===\n",
      "bert-base-multilingual-cased\n"
     ]
    }
   ],
   "source": [
    "import os\n",
    "from tabulate import tabulate\n",
    "from textwrap import wrap\n",
    "from transformers import BertTokenizerFast, BertForTokenClassification\n",
    "\n",
    "# Parameters\n",
    "languages = [\"en\", \"es\", \"ar\", \"zh\", \"ru\", \"hi\", \"sw\", \"tr\", \"ja\", \"fr\", \"ms\", \"ko\"]\n",
    "model_params = {\n",
    "    'learning_rate': 3e-3,\n",
    "    'epochs': 5,\n",
    "    'batch_size': 2,\n",
    "}\n",
    "nrows = 500\n",
    "num_labels = 10\n",
    "\n",
    "# Initialize tokenizer and model\n",
    "tokenizer = BertTokenizerFast.from_pretrained('bert-base-multilingual-cased')\n",
    "model = BertForTokenClassification.from_pretrained('bert-base-multilingual-cased', num_labels=num_labels)\n",
    "\n",
    "def clear_terminal():\n",
    "    os.system('cls' if os.name == 'nt' else 'clear')\n",
    "\n",
    "def format_languages(languages, max_width=40):\n",
    "    wrapped_languages = wrap(\", \".join(languages), max_width)\n",
    "    return wrapped_languages\n",
    "\n",
    "def print_training_params(languages, model_params, nrows, tokenizer, model):\n",
    "    clear_terminal()\n",
    "    \n",
    "    print(\"=== Training Configuration ===\")\n",
    "    \n",
    "    languages_table = [[\"Languages\"] + format_languages(languages)]\n",
    "    print(tabulate(languages_table, tablefmt=\"grid\"))\n",
    "    \n",
    "    model_params_table = [[\"Parameter\", \"Value\"]]\n",
    "    for key, value in model_params.items():\n",
    "        model_params_table.append([key, value])\n",
    "    model_params_table.append([\"Number of Rows\", nrows])\n",
    "    \n",
    "    print(tabulate(model_params_table, headers=\"firstrow\", tablefmt=\"grid\"))\n",
    "    \n",
    "    print(\"\\n=== Tokenizer ===\")\n",
    "    print(tokenizer.name_or_path)\n",
    "    \n",
    "    print(\"\\n=== Model ===\")\n",
    "    print(model.name_or_path)\n",
    "\n",
    "# Example of usage\n",
    "print_training_params(languages, model_params, nrows, tokenizer, model)\n"
   ]
  },
  {
   "cell_type": "code",
   "execution_count": 19,
   "metadata": {},
   "outputs": [
    {
     "name": "stdout",
     "output_type": "stream",
     "text": [
      "Training Loop Configuration\n",
      "\n",
      "+-----------------------------+-----------------------------------------+\n",
      "| Configuration Item          | Details                                 |\n",
      "+=============================+=========================================+\n",
      "| Languages                   | en, es, ar, zh, ru, hi, sw, tr, ja, fr, |\n",
      "|                             | ms, ko, en, es, ar, zh, ru, hi, sw, tr, |\n",
      "|                             | ja, fr, ms, ko                          |\n",
      "+-----------------------------+-----------------------------------------+\n",
      "| Number of Rows per Language | 500                                     |\n",
      "+-----------------------------+-----------------------------------------+\n",
      "| Model Info                  | Model Name: YourModelName               |\n",
      "|                             | Model Type: BERT                        |\n",
      "|                             | Parameters: Example params              |\n",
      "+-----------------------------+-----------------------------------------+\n",
      "| Tokenizer Info              | Tokenizer Name: YourTokenizerName       |\n",
      "|                             | Vocabulary Size: 30522                  |\n",
      "|                             | Special Tokens: Example tokens          |\n",
      "+-----------------------------+-----------------------------------------+\n",
      "| Model Parameters            | learning_rate: 0.003                    |\n",
      "|                             | epochs: 5                               |\n",
      "|                             | batch_size: 2                           |\n",
      "+-----------------------------+-----------------------------------------+\n"
     ]
    }
   ],
   "source": [
    "from tabulate import tabulate\n",
    "import textwrap\n",
    "\n",
    "# Assuming these are defined elsewhere in your code\n",
    "languages = [\"en\", \"es\", \"ar\", \"zh\", \"ru\", \"hi\", \"sw\", \"tr\", \"ja\", \"fr\", \"ms\", \"ko\", \"en\", \"es\", \"ar\", \"zh\", \"ru\", \"hi\", \"sw\", \"tr\", \"ja\", \"fr\", \"ms\", \"ko\"]\n",
    "model_params = {\n",
    "    'learning_rate': 3e-3,\n",
    "    'epochs': 5,\n",
    "    'batch_size': 2,\n",
    "}\n",
    "nrows = 500\n",
    "\n",
    "# Model and tokenizer info (assuming you have these objects defined)\n",
    "model_info = {\n",
    "    'Model Name': 'YourModelName',  # Replace with actual model name\n",
    "    'Model Type': 'BERT',           # Replace with actual model type if needed\n",
    "    'Parameters': 'Example params' # Replace with actual model parameters if needed\n",
    "}\n",
    "\n",
    "tokenizer_info = {\n",
    "    'Tokenizer Name': 'YourTokenizerName',  # Replace with actual tokenizer name\n",
    "    'Vocabulary Size': 30522,  # Replace with actual vocabulary size if needed\n",
    "    'Special Tokens': 'Example tokens'  # Replace with actual special tokens info if needed\n",
    "}\n",
    "\n",
    "# Prepare the data for tabulation\n",
    "headers = [\"Configuration Item\", \"Details\"]\n",
    "config_data = [\n",
    "    [\"Languages\", \"\\n\".join(textwrap.wrap(\", \".join(languages), width=40))],\n",
    "    [\"Number of Rows per Language\", nrows],\n",
    "    [\"Model Info\", \"\\n\".join(f\"{k}: {v}\" for k, v in model_info.items())],\n",
    "    [\"Tokenizer Info\", \"\\n\".join(f\"{k}: {v}\" for k, v in tokenizer_info.items())],\n",
    "    [\"Model Parameters\", \"\\n\".join(f\"{k}: {v}\" for k, v in model_params.items())],\n",
    "]\n",
    "\n",
    "# Print the configuration\n",
    "print(\"Training Loop Configuration\\n\")\n",
    "print(tabulate(config_data, headers=headers, tablefmt=\"grid\"))\n",
    "\n"
   ]
  },
  {
   "cell_type": "code",
   "execution_count": 10,
   "metadata": {},
   "outputs": [
    {
     "name": "stderr",
     "output_type": "stream",
     "text": [
      "Some weights of BertForTokenClassification were not initialized from the model checkpoint at bert-base-multilingual-cased and are newly initialized: ['classifier.bias', 'classifier.weight']\n",
      "You should probably TRAIN this model on a down-stream task to be able to use it for predictions and inference.\n"
     ]
    },
    {
     "name": "stdout",
     "output_type": "stream",
     "text": [
      "{'num_hidden_layers': 12, 'model_name': 'bert-base-multilingual-cased', 'hidden_size': 768, 'num_attention_heads': 12, 'num_labels': 7}\n"
     ]
    }
   ],
   "source": [
    "from transformers import BertForTokenClassification\n",
    "\n",
    "# Load the model\n",
    "model = BertForTokenClassification.from_pretrained('bert-base-multilingual-cased', num_labels=7)\n",
    "\n",
    "# Extract key configuration details\n",
    "config_dict = {\n",
    "    \"num_hidden_layers\": model.config.num_hidden_layers,\n",
    "    \"model_name\": model.config._name_or_path,\n",
    "    \"hidden_size\": model.config.hidden_size,\n",
    "    \"num_attention_heads\": model.config.num_attention_heads,\n",
    "    \"num_labels\": model.config.num_labels\n",
    "}\n",
    "\n",
    "# Display the dictionary\n",
    "print(config_dict)\n"
   ]
  },
  {
   "cell_type": "code",
   "execution_count": 23,
   "metadata": {},
   "outputs": [
    {
     "name": "stdout",
     "output_type": "stream",
     "text": [
      "{'vocab_size': 119547, 'pad_token_id': 0, 'unk_token_id': 100, 'cls_token_id': 101, 'sep_token_id': 102}\n"
     ]
    }
   ],
   "source": [
    "from transformers import BertTokenizerFast\n",
    "\n",
    "# Load the tokenizer\n",
    "tokenizer = BertTokenizerFast.from_pretrained('bert-base-multilingual-cased')\n",
    "\n",
    "# Extract key tokenizer details\n",
    "tokenizer_dict = {\n",
    "    \"vocab_size\": tokenizer.vocab_size,\n",
    "    \"pad_token_id\": tokenizer.pad_token_id,\n",
    "    \"unk_token_id\": tokenizer.unk_token_id,\n",
    "    \"cls_token_id\": tokenizer.cls_token_id,\n",
    "    \"sep_token_id\": tokenizer.sep_token_id\n",
    "}\n",
    "\n",
    "# Display the dictionary\n",
    "print(tokenizer_dict)\n"
   ]
  },
  {
   "cell_type": "markdown",
   "metadata": {},
   "source": [
    "**Data Processing**"
   ]
  },
  {
   "cell_type": "code",
   "execution_count": 4,
   "metadata": {},
   "outputs": [
    {
     "data": {
      "text/plain": [
       "<Axes: xlabel='lang', ylabel='Count'>"
      ]
     },
     "execution_count": 4,
     "metadata": {},
     "output_type": "execute_result"
    },
    {
     "data": {
      "image/png": "[encoded data removed]",
      "text/plain": [
       "<Figure size 640x480 with 1 Axes>"
      ]
     },
     "metadata": {},
     "output_type": "display_data"
    }
   ],
   "source": [
    "import seaborn as sns\n",
    "sns.histplot(df_train, x='lang')"
   ]
  },
  {
   "cell_type": "code",
   "execution_count": 19,
   "metadata": {},
   "outputs": [
    {
     "data": {
      "text/plain": [
       "<Axes: xlabel='lang', ylabel='Count'>"
      ]
     },
     "execution_count": 19,
     "metadata": {},
     "output_type": "execute_result"
    },
    {
     "data": {
      "image/png": "[encoded data removed]",
      "text/plain": [
       "<Figure size 640x480 with 1 Axes>"
      ]
     },
     "metadata": {},
     "output_type": "display_data"
    }
   ],
   "source": [
    "max_rows = df_train['lang'].value_counts().max()\n",
    "\n",
    "# Function to oversample a given language\n",
    "def oversample_language(df, lang, max_rows):\n",
    "    df_lang = df[df['lang'] == lang]\n",
    "    if len(df_lang) < max_rows:\n",
    "        oversampled_lang = df_lang.sample(max_rows, replace=True)\n",
    "    else:\n",
    "        oversampled_lang = df_lang\n",
    "    return oversampled_lang\n",
    "\n",
    "# Get a list of all languages in the dataset\n",
    "languages = df_train['lang'].unique()\n",
    "\n",
    "# Oversample each language\n",
    "oversampled_dfs = [oversample_language(df_train, lang, max_rows) for lang in languages]\n",
    "\n",
    "# Concatenate all oversampled dataframes\n",
    "balanced_df = pd.concat(oversampled_dfs)\n",
    "\n",
    "# Shuffle the resulting dataframe\n",
    "balanced_df = balanced_df.sample(frac=1).reset_index(drop=True)\n",
    "\n",
    "sns.histplot(balanced_df, x='lang')"
   ]
  },
  {
   "cell_type": "code",
   "execution_count": 22,
   "metadata": {},
   "outputs": [],
   "source": [
    "labels = [i.split() for i in df_train['ner_tags_str'].values.tolist()]\n",
    "\n",
    "unique_labels = set(lbl for seq in labels for lbl in seq)\n",
    "\n",
    "labels_to_ids = {k: v for v, k in enumerate(sorted(unique_labels))}\n",
    "ids_to_labels = {v: k for v, k in enumerate(sorted(unique_labels))}"
   ]
  },
  {
   "cell_type": "markdown",
   "metadata": {},
   "source": [
    "**Load Tokenizer**"
   ]
  },
  {
   "cell_type": "code",
   "execution_count": 3,
   "metadata": {},
   "outputs": [],
   "source": [
    "from transformers import BertTokenizerFast\n",
    "\n",
    "tokenizer = BertTokenizerFast.from_pretrained('bert-base-multilingual-cased')"
   ]
  },
  {
   "cell_type": "code",
   "execution_count": 4,
   "metadata": {},
   "outputs": [],
   "source": [
    "import seaborn as sns\n",
    "import matplotlib.pyplot as plt\n",
    "\n",
    "def plot_acc_loss(train_acc_history, val_acc_history, train_loss_history, val_loss_history):\n",
    "  fig, ax = plt.subplots(nrows=1, ncols=2, figsize=(8, 3))\n",
    "\n",
    "  sns.lineplot(x=range(len(train_acc_history)), y=train_acc_history, ax=ax[0], label='Train Accuracy')\n",
    "  sns.lineplot(x=[len(train_acc_history)//len(val_acc_history)*i for i in range(len(val_acc_history))], \n",
    "               y=val_acc_history, \n",
    "               ax=ax[0], \n",
    "               label='Validation Accuracy')\n",
    "  \n",
    "  ax[0].set_title('Accuracy History')\n",
    "\n",
    "  sns.lineplot(x=range(len(train_loss_history)), y=train_loss_history, ax=ax[1], label='Train Loss')\n",
    "  sns.lineplot(x=[len(train_loss_history)//len(val_loss_history)*i for i in range(len(val_loss_history))], \n",
    "               y=val_loss_history, \n",
    "               ax=ax[1], \n",
    "               label='Validation Loss')\n",
    "  \n",
    "  ax[1].set_title('Loss History')"
   ]
  },
  {
   "cell_type": "markdown",
   "metadata": {},
   "source": [
    "**Training**"
   ]
  },
  {
   "cell_type": "code",
   "execution_count": 7,
   "metadata": {},
   "outputs": [
    {
     "name": "stderr",
     "output_type": "stream",
     "text": [
      "Some weights of BertForTokenClassification were not initialized from the model checkpoint at bert-base-multilingual-cased and are newly initialized: ['classifier.bias', 'classifier.weight']\n",
      "You should probably TRAIN this model on a down-stream task to be able to use it for predictions and inference.\n"
     ]
    },
    {
     "name": "stdout",
     "output_type": "stream",
     "text": [
      "Running on: cpu\n"
     ]
    },
    {
     "name": "stderr",
     "output_type": "stream",
     "text": [
      "[Epoch: 1] [Acc: 0.378]:   8%|▊         | 6/80.0 [00:21<04:40,  3.79s/it]"
     ]
    },
    {
     "ename": "KeyboardInterrupt",
     "evalue": "",
     "output_type": "error",
     "traceback": [
      "\u001b[0;31m---------------------------------------------------------------------------\u001b[0m",
      "\u001b[0;31mKeyboardInterrupt\u001b[0m                         Traceback (most recent call last)",
      "Cell \u001b[0;32mIn[7], line 151\u001b[0m\n\u001b[1;32m    148\u001b[0m     \u001b[38;5;28;01mreturn\u001b[39;00m best_model_weights\n\u001b[1;32m    150\u001b[0m model \u001b[38;5;241m=\u001b[39m BertModel(\u001b[38;5;241m7\u001b[39m)\n\u001b[0;32m--> 151\u001b[0m best_model_weights \u001b[38;5;241m=\u001b[39m \u001b[43mtrain_loop\u001b[49m\u001b[43m(\u001b[49m\u001b[43mmodel\u001b[49m\u001b[43m,\u001b[49m\u001b[43m \u001b[49m\u001b[43mdf_train\u001b[49m\u001b[43m,\u001b[49m\u001b[43m \u001b[49m\u001b[43mdf_val\u001b[49m\u001b[43m)\u001b[49m\n",
      "Cell \u001b[0;32mIn[7], line 79\u001b[0m, in \u001b[0;36mtrain_loop\u001b[0;34m(model, df_train, df_val)\u001b[0m\n\u001b[1;32m     76\u001b[0m train_acc_history\u001b[38;5;241m.\u001b[39mappend((total_acc_train \u001b[38;5;241m/\u001b[39m ((idx\u001b[38;5;241m+\u001b[39m\u001b[38;5;241m1\u001b[39m)\u001b[38;5;241m*\u001b[39m\u001b[38;5;241m2\u001b[39m) ))\n\u001b[1;32m     77\u001b[0m train_loss_history\u001b[38;5;241m.\u001b[39mappend((total_loss_train \u001b[38;5;241m/\u001b[39m ((idx\u001b[38;5;241m+\u001b[39m\u001b[38;5;241m1\u001b[39m)\u001b[38;5;241m*\u001b[39m\u001b[38;5;241m2\u001b[39m) ))\n\u001b[0;32m---> 79\u001b[0m \u001b[43mloss\u001b[49m\u001b[38;5;241;43m.\u001b[39;49m\u001b[43mbackward\u001b[49m\u001b[43m(\u001b[49m\u001b[43m)\u001b[49m\n\u001b[1;32m     80\u001b[0m optimizer\u001b[38;5;241m.\u001b[39mstep()\n\u001b[1;32m     82\u001b[0m pbar\u001b[38;5;241m.\u001b[39mset_description(\u001b[38;5;124mf\u001b[39m\u001b[38;5;124m\"\u001b[39m\u001b[38;5;124m[Epoch: \u001b[39m\u001b[38;5;132;01m{\u001b[39;00mepoch_num\u001b[38;5;250m \u001b[39m\u001b[38;5;241m+\u001b[39m\u001b[38;5;250m \u001b[39m\u001b[38;5;241m1\u001b[39m\u001b[38;5;132;01m}\u001b[39;00m\u001b[38;5;124m] [Acc: \u001b[39m\u001b[38;5;132;01m{\u001b[39;00m(total_acc_train\u001b[38;5;250m \u001b[39m\u001b[38;5;241m/\u001b[39m\u001b[38;5;250m \u001b[39m((idx\u001b[38;5;250m \u001b[39m\u001b[38;5;241m+\u001b[39m\u001b[38;5;250m \u001b[39m\u001b[38;5;241m1\u001b[39m)\u001b[38;5;250m \u001b[39m\u001b[38;5;241m*\u001b[39m\u001b[38;5;250m \u001b[39mBATCH_SIZE))\u001b[38;5;132;01m:\u001b[39;00m\u001b[38;5;124m.3f\u001b[39m\u001b[38;5;132;01m}\u001b[39;00m\u001b[38;5;124m]\u001b[39m\u001b[38;5;124m\"\u001b[39m)\n",
      "File \u001b[0;32m~/anaconda3/envs/nlp_rsrch/lib/python3.11/site-packages/torch/_tensor.py:525\u001b[0m, in \u001b[0;36mTensor.backward\u001b[0;34m(self, gradient, retain_graph, create_graph, inputs)\u001b[0m\n\u001b[1;32m    515\u001b[0m \u001b[38;5;28;01mif\u001b[39;00m has_torch_function_unary(\u001b[38;5;28mself\u001b[39m):\n\u001b[1;32m    516\u001b[0m     \u001b[38;5;28;01mreturn\u001b[39;00m handle_torch_function(\n\u001b[1;32m    517\u001b[0m         Tensor\u001b[38;5;241m.\u001b[39mbackward,\n\u001b[1;32m    518\u001b[0m         (\u001b[38;5;28mself\u001b[39m,),\n\u001b[0;32m   (...)\u001b[0m\n\u001b[1;32m    523\u001b[0m         inputs\u001b[38;5;241m=\u001b[39minputs,\n\u001b[1;32m    524\u001b[0m     )\n\u001b[0;32m--> 525\u001b[0m \u001b[43mtorch\u001b[49m\u001b[38;5;241;43m.\u001b[39;49m\u001b[43mautograd\u001b[49m\u001b[38;5;241;43m.\u001b[39;49m\u001b[43mbackward\u001b[49m\u001b[43m(\u001b[49m\n\u001b[1;32m    526\u001b[0m \u001b[43m    \u001b[49m\u001b[38;5;28;43mself\u001b[39;49m\u001b[43m,\u001b[49m\u001b[43m \u001b[49m\u001b[43mgradient\u001b[49m\u001b[43m,\u001b[49m\u001b[43m \u001b[49m\u001b[43mretain_graph\u001b[49m\u001b[43m,\u001b[49m\u001b[43m \u001b[49m\u001b[43mcreate_graph\u001b[49m\u001b[43m,\u001b[49m\u001b[43m \u001b[49m\u001b[43minputs\u001b[49m\u001b[38;5;241;43m=\u001b[39;49m\u001b[43minputs\u001b[49m\n\u001b[1;32m    527\u001b[0m \u001b[43m\u001b[49m\u001b[43m)\u001b[49m\n",
      "File \u001b[0;32m~/anaconda3/envs/nlp_rsrch/lib/python3.11/site-packages/torch/autograd/__init__.py:267\u001b[0m, in \u001b[0;36mbackward\u001b[0;34m(tensors, grad_tensors, retain_graph, create_graph, grad_variables, inputs)\u001b[0m\n\u001b[1;32m    262\u001b[0m     retain_graph \u001b[38;5;241m=\u001b[39m create_graph\n\u001b[1;32m    264\u001b[0m \u001b[38;5;66;03m# The reason we repeat the same comment below is that\u001b[39;00m\n\u001b[1;32m    265\u001b[0m \u001b[38;5;66;03m# some Python versions print out the first line of a multi-line function\u001b[39;00m\n\u001b[1;32m    266\u001b[0m \u001b[38;5;66;03m# calls in the traceback and some print out the last line\u001b[39;00m\n\u001b[0;32m--> 267\u001b[0m \u001b[43m_engine_run_backward\u001b[49m\u001b[43m(\u001b[49m\n\u001b[1;32m    268\u001b[0m \u001b[43m    \u001b[49m\u001b[43mtensors\u001b[49m\u001b[43m,\u001b[49m\n\u001b[1;32m    269\u001b[0m \u001b[43m    \u001b[49m\u001b[43mgrad_tensors_\u001b[49m\u001b[43m,\u001b[49m\n\u001b[1;32m    270\u001b[0m \u001b[43m    \u001b[49m\u001b[43mretain_graph\u001b[49m\u001b[43m,\u001b[49m\n\u001b[1;32m    271\u001b[0m \u001b[43m    \u001b[49m\u001b[43mcreate_graph\u001b[49m\u001b[43m,\u001b[49m\n\u001b[1;32m    272\u001b[0m \u001b[43m    \u001b[49m\u001b[43minputs\u001b[49m\u001b[43m,\u001b[49m\n\u001b[1;32m    273\u001b[0m \u001b[43m    \u001b[49m\u001b[43mallow_unreachable\u001b[49m\u001b[38;5;241;43m=\u001b[39;49m\u001b[38;5;28;43;01mTrue\u001b[39;49;00m\u001b[43m,\u001b[49m\n\u001b[1;32m    274\u001b[0m \u001b[43m    \u001b[49m\u001b[43maccumulate_grad\u001b[49m\u001b[38;5;241;43m=\u001b[39;49m\u001b[38;5;28;43;01mTrue\u001b[39;49;00m\u001b[43m,\u001b[49m\n\u001b[1;32m    275\u001b[0m \u001b[43m\u001b[49m\u001b[43m)\u001b[49m\n",
      "File \u001b[0;32m~/anaconda3/envs/nlp_rsrch/lib/python3.11/site-packages/torch/autograd/graph.py:744\u001b[0m, in \u001b[0;36m_engine_run_backward\u001b[0;34m(t_outputs, *args, **kwargs)\u001b[0m\n\u001b[1;32m    742\u001b[0m     unregister_hooks \u001b[38;5;241m=\u001b[39m _register_logging_hooks_on_whole_graph(t_outputs)\n\u001b[1;32m    743\u001b[0m \u001b[38;5;28;01mtry\u001b[39;00m:\n\u001b[0;32m--> 744\u001b[0m     \u001b[38;5;28;01mreturn\u001b[39;00m \u001b[43mVariable\u001b[49m\u001b[38;5;241;43m.\u001b[39;49m\u001b[43m_execution_engine\u001b[49m\u001b[38;5;241;43m.\u001b[39;49m\u001b[43mrun_backward\u001b[49m\u001b[43m(\u001b[49m\u001b[43m  \u001b[49m\u001b[38;5;66;43;03m# Calls into the C++ engine to run the backward pass\u001b[39;49;00m\n\u001b[1;32m    745\u001b[0m \u001b[43m        \u001b[49m\u001b[43mt_outputs\u001b[49m\u001b[43m,\u001b[49m\u001b[43m \u001b[49m\u001b[38;5;241;43m*\u001b[39;49m\u001b[43margs\u001b[49m\u001b[43m,\u001b[49m\u001b[43m \u001b[49m\u001b[38;5;241;43m*\u001b[39;49m\u001b[38;5;241;43m*\u001b[39;49m\u001b[43mkwargs\u001b[49m\n\u001b[1;32m    746\u001b[0m \u001b[43m    \u001b[49m\u001b[43m)\u001b[49m  \u001b[38;5;66;03m# Calls into the C++ engine to run the backward pass\u001b[39;00m\n\u001b[1;32m    747\u001b[0m \u001b[38;5;28;01mfinally\u001b[39;00m:\n\u001b[1;32m    748\u001b[0m     \u001b[38;5;28;01mif\u001b[39;00m attach_logging_hooks:\n",
      "\u001b[0;31mKeyboardInterrupt\u001b[0m: "
     ]
    }
   ],
   "source": [
    "import torch\n",
    "import copy\n",
    "from torch.optim import SGD\n",
    "from torch.utils.data import DataLoader\n",
    "\n",
    "from tqdm import tqdm\n",
    "\n",
    "from src.models.bert_model import BertModel\n",
    "from src.data.data_sequence import DataSequence\n",
    "\n",
    "LEARNING_RATE = 3e-3\n",
    "EPOCHS = 5\n",
    "BATCH_SIZE = 2\n",
    "\n",
    "def train_loop(model, df_train, df_val):\n",
    "    train_dataset = DataSequence(df_train, tokenizer)\n",
    "    val_dataset = DataSequence(df_val, tokenizer)\n",
    "\n",
    "    train_dataloader = DataLoader(train_dataset, num_workers=0, batch_size=BATCH_SIZE)\n",
    "    val_dataloader = DataLoader(val_dataset, num_workers=0, batch_size=BATCH_SIZE)\n",
    "\n",
    "    use_cuda = torch.cuda.is_available()\n",
    "    use_mps = torch.backends.mps.is_available()\n",
    "\n",
    "    use_mps = False\n",
    "    \n",
    "    device = torch.device(\"mps\" if use_mps else \"cpu\")\n",
    "\n",
    "    optimizer = SGD(model.parameters(), lr=LEARNING_RATE)\n",
    "\n",
    "    if use_mps:\n",
    "        model.to(device)\n",
    "    elif use_cuda:\n",
    "        model = model.cuda()\n",
    "\n",
    "    print(f\"Running on: {device}\")\n",
    "\n",
    "    train_acc_history = []\n",
    "    train_loss_history = []\n",
    "\n",
    "    val_acc_history = []\n",
    "    val_loss_history = []\n",
    "\n",
    "    #Initialize Variables for EarlyStopping\n",
    "    best_loss = float('inf')\n",
    "    best_model_weights = None\n",
    "    patience = 2\n",
    "\n",
    "    for epoch_num in range(EPOCHS):\n",
    "        total_acc_train = 0\n",
    "        total_loss_train = 0\n",
    "\n",
    "        model.train()\n",
    "\n",
    "        pbar = tqdm(total=len(df_train)/BATCH_SIZE, desc=f\"[Epoch: {epoch_num + 1}] [Acc: {0}]\")\n",
    "        for idx, batch_data in enumerate(train_dataloader):\n",
    "            train_data, train_label = batch_data\n",
    "\n",
    "            train_label = train_label.to(device)\n",
    "            mask = train_data['attention_mask'].squeeze(1).to(device)\n",
    "            input_id = train_data['input_ids'].squeeze(1).to(device)\n",
    "\n",
    "            optimizer.zero_grad()\n",
    "            loss, logits = model(input_id, mask, train_label)\n",
    "\n",
    "            for i in range(logits.shape[0]):\n",
    "\n",
    "                logits_clean = logits[i][train_label[i] != -100]\n",
    "                label_clean = train_label[i][train_label[i] != -100]\n",
    "\n",
    "                predictions = logits_clean.argmax(dim=1)\n",
    "                acc = (predictions == label_clean).float().mean()\n",
    "                total_acc_train += acc\n",
    "                total_loss_train += loss.item()\n",
    "\n",
    "            train_acc_history.append((total_acc_train / ((idx+1)*2) ))\n",
    "            train_loss_history.append((total_loss_train / ((idx+1)*2) ))\n",
    "\n",
    "            loss.backward()\n",
    "            optimizer.step()\n",
    "\n",
    "            pbar.set_description(f\"[Epoch: {epoch_num + 1}] [Acc: {(total_acc_train / ((idx + 1) * BATCH_SIZE)):.3f}]\")\n",
    "\n",
    "            pbar.update(1)\n",
    "\n",
    "        model.eval()\n",
    "\n",
    "        total_acc_val = 0\n",
    "        total_loss_val = 0\n",
    "\n",
    "        with torch.no_grad():\n",
    "            pbar = tqdm(total=len(df_val)/BATCH_SIZE, desc=f\"[Validation Acc: {0}]\")\n",
    "            for idx, batch_data in enumerate(val_dataloader):\n",
    "                val_data, val_label = batch_data\n",
    "    \n",
    "                val_label = val_label.to(device)\n",
    "                mask = val_data['attention_mask'].squeeze(1).to(device)\n",
    "                input_id = val_data['input_ids'].squeeze(1).to(device)\n",
    "    \n",
    "                loss, logits = model(input_id, mask, val_label)\n",
    "    \n",
    "                for i in range(logits.shape[0]):\n",
    "                    logits_clean = logits[i][val_label[i] != -100]\n",
    "                    label_clean = val_label[i][val_label[i] != -100]\n",
    "    \n",
    "                    predictions = logits_clean.argmax(dim=1)\n",
    "                    acc = (predictions == label_clean).float().mean()\n",
    "                    total_acc_val += acc\n",
    "                    total_loss_val += loss.item()\n",
    "    \n",
    "                val_acc_history.append((total_acc_val / ((idx+1)*2) ))\n",
    "                val_loss_history.append((total_loss_val / ((idx+1)*2) ))\n",
    "\n",
    "                pbar.set_description(f\"[Validation Acc: {(total_acc_val / ((idx + 1) * BATCH_SIZE)):.3f}]\")\n",
    "\n",
    "                pbar.update(1)\n",
    "\n",
    "        val_accuracy = total_acc_val / len(df_val)\n",
    "        val_loss = total_loss_val / len(df_val)\n",
    "\n",
    "        print(\n",
    "            f'Epochs: {epoch_num+1} \\\n",
    "            | Loss: {total_loss_train / len(df_train): .3f} \\\n",
    "            | Accuracy: {total_acc_train / len(df_train): .3f} \\\n",
    "            | Val Loss: {total_loss_val / len(df_val): .3f} \\\n",
    "            | Val Accuracy: {total_acc_val / len(df_val): .3f}' \\\n",
    "        )\n",
    "\n",
    "        # Early stopping\n",
    "        if val_loss < best_loss:\n",
    "            best_loss = val_loss\n",
    "            best_model_weights = copy.deepcopy(model.state_dict())  # Deep copy here      \n",
    "            patience = 2  # Reset patience counter\n",
    "        else:\n",
    "            patience -= 1\n",
    "            if patience == 0:\n",
    "                print('Early Stopping Triggered')\n",
    "                break\n",
    "    \n",
    "    train_acc_history = [tensor.item() if isinstance(tensor, torch.Tensor) else tensor for tensor in train_acc_history]\n",
    "    train_loss_history = [tensor.item() if isinstance(tensor, torch.Tensor) else tensor for tensor in train_loss_history]\n",
    "\n",
    "    val_acc_history = [tensor.item() if isinstance(tensor, torch.Tensor) else tensor for tensor in val_acc_history]\n",
    "    val_loss_history = [tensor.item() if isinstance(tensor, torch.Tensor) else tensor for tensor in val_loss_history]\n",
    "\n",
    "    plot_acc_loss(train_acc_history, val_acc_history, train_loss_history, val_loss_history)\n",
    "\n",
    "    return best_model_weights\n",
    "\n",
    "model = BertModel(7)\n",
    "best_model_weights = train_loop(model, df_train, df_val)"
   ]
  },
  {
   "cell_type": "code",
   "execution_count": 22,
   "metadata": {},
   "outputs": [],
   "source": [
    "#torch.save(model.state_dict(), 'models/var_model.pth')"
   ]
  },
  {
   "cell_type": "code",
   "execution_count": 11,
   "metadata": {},
   "outputs": [
    {
     "name": "stdout",
     "output_type": "stream",
     "text": [
      "Running on: mps\n"
     ]
    },
    {
     "data": {
      "application/vnd.jupyter.widget-view+json": {
       "model_id": "5aaf90f2faef4e15a18314bfeb07d44e",
       "version_major": 2,
       "version_minor": 0
      },
      "text/plain": [
       "[Test Accuracy: 0]:   0%|          | 0/5800 [00:00<?, ?it/s]"
      ]
     },
     "metadata": {},
     "output_type": "display_data"
    },
    {
     "name": "stdout",
     "output_type": "stream",
     "text": [
      "Test Accuracy:  0.898\n"
     ]
    }
   ],
   "source": [
    "def evaluate(model, df_test):\n",
    "    test_dataset = DataSequence(df_test)\n",
    "    test_dataloader = DataLoader(test_dataset, num_workers=0, batch_size=1)\n",
    "\n",
    "    use_cuda = torch.cuda.is_available()\n",
    "    use_mps = torch.backends.mps.is_available()\n",
    "    \n",
    "    device = torch.device(\"mps\" if use_mps else \"cpu\")\n",
    "\n",
    "    if use_mps:\n",
    "        model.to(device)\n",
    "    elif use_cuda:\n",
    "        model = model.cuda()\n",
    "\n",
    "    print(f\"Running on: {device}\")\n",
    "\n",
    "    total_acc_test = 0.0\n",
    "\n",
    "    pbar = tqdm(total=len(df_test), desc=f\"[Test Accuracy: {0}]\")\n",
    "    for idx, batch_data in enumerate(test_dataloader):\n",
    "        test_data, test_label = batch_data\n",
    "        test_label = test_label.to(device)\n",
    "        \n",
    "        mask = test_data['attention_mask'].squeeze(1).to(device)\n",
    "        input_id = test_data['input_ids'].squeeze(1).to(device)\n",
    "\n",
    "        loss, logits = model(input_id, mask, test_label)\n",
    "\n",
    "        for i in range(logits.shape[0]):\n",
    "            logits_clean = logits[i][test_label[i] != -100]\n",
    "            label_clean = test_label[i][test_label[i] != -100]\n",
    "\n",
    "            predictions = logits_clean.argmax(dim=1)\n",
    "            acc = (predictions == label_clean).float().mean()\n",
    "            total_acc_test += acc\n",
    "\n",
    "        pbar.set_description(f\"[Test Accuracy: {(total_acc_test / ((idx + 1))):.3f}]\")\n",
    "\n",
    "        pbar.update(1)\n",
    "\n",
    "    val_accuracy = total_acc_test / len(df_test)\n",
    "    print(f'Test Accuracy: {val_accuracy: .3f}')\n",
    "\n",
    "evaluate(model, df_test)"
   ]
  },
  {
   "cell_type": "code",
   "execution_count": 12,
   "metadata": {},
   "outputs": [
    {
     "name": "stderr",
     "output_type": "stream",
     "text": [
      "Some weights of BertForTokenClassification were not initialized from the model checkpoint at bert-base-multilingual-cased and are newly initialized: ['classifier.bias', 'classifier.weight']\n",
      "You should probably TRAIN this model on a down-stream task to be able to use it for predictions and inference.\n"
     ]
    },
    {
     "name": "stdout",
     "output_type": "stream",
     "text": [
      "Running on: mps\n"
     ]
    },
    {
     "data": {
      "application/vnd.jupyter.widget-view+json": {
       "model_id": "cb6171becafb49de9fc18e3eff0e279f",
       "version_major": 2,
       "version_minor": 0
      },
      "text/plain": [
       "[Test Accuracy: 0]:   0%|          | 0/5800 [00:00<?, ?it/s]"
      ]
     },
     "metadata": {},
     "output_type": "display_data"
    },
    {
     "name": "stdout",
     "output_type": "stream",
     "text": [
      "Test Accuracy:  0.895\n"
     ]
    }
   ],
   "source": [
    "test_model = BertModel()\n",
    "test_model.load_state_dict(best_model_weights)\n",
    "test_model.eval()\n",
    "evaluate(test_model, df_test)"
   ]
  },
  {
   "cell_type": "code",
   "execution_count": 29,
   "metadata": {},
   "outputs": [
    {
     "data": {
      "application/vnd.jupyter.widget-view+json": {
       "model_id": "68a8016f1212431d9951660ede2dca97",
       "version_major": 2,
       "version_minor": 0
      },
      "text/plain": [
       "Fetching Language Data:   0%|          | 0/1 [00:00<?, ?it/s]"
      ]
     },
     "metadata": {},
     "output_type": "display_data"
    },
    {
     "data": {
      "application/vnd.jupyter.widget-view+json": {
       "model_id": "fdeabc11715b4b8aa4cb442a76afb134",
       "version_major": 2,
       "version_minor": 0
      },
      "text/plain": [
       "Processing Language Data:   0%|          | 0/1 [00:00<?, ?it/s]"
      ]
     },
     "metadata": {},
     "output_type": "display_data"
    },
    {
     "name": "stderr",
     "output_type": "stream",
     "text": [
      "/Users/lucasgranucci/anaconda3/envs/nlp_rsrch/lib/python3.11/site-packages/numpy/core/fromnumeric.py:59: FutureWarning: 'DataFrame.swapaxes' is deprecated and will be removed in a future version. Please use 'DataFrame.transpose' instead.\n",
      "  return bound(*args, **kwds)\n"
     ]
    },
    {
     "name": "stdout",
     "output_type": "stream",
     "text": [
      "Running on: mps\n"
     ]
    },
    {
     "data": {
      "application/vnd.jupyter.widget-view+json": {
       "model_id": "001a81959a22477bb9b74cac6a8b6517",
       "version_major": 2,
       "version_minor": 0
      },
      "text/plain": [
       "[Test Accuracy: 0]:   0%|          | 0/800 [00:00<?, ?it/s]"
      ]
     },
     "metadata": {},
     "output_type": "display_data"
    },
    {
     "name": "stdout",
     "output_type": "stream",
     "text": [
      "Test Accuracy:  0.520\n"
     ]
    }
   ],
   "source": [
    "test_train, test_val, test_test = load_data(langs=['ur'], nrows=1000)\n",
    "evaluate(model, test_train)"
   ]
  },
  {
   "cell_type": "code",
   "execution_count": 74,
   "metadata": {},
   "outputs": [],
   "source": [
    "def align_word_ids(texts, label_all_tokens):\n",
    "    tokenized_inputs = tokenizer(texts, padding='max_length', max_length=512, truncation=True)\n",
    "    word_ids = tokenized_inputs.word_ids()\n",
    "\n",
    "    previous_word_idx = None\n",
    "    label_ids = []\n",
    "\n",
    "    for word_idx in word_ids:\n",
    "        if word_idx is None:\n",
    "            label_ids.append(-100)\n",
    "        elif word_idx != previous_word_idx:\n",
    "            try:\n",
    "                label_ids.append(1)\n",
    "            except:\n",
    "                label_ids.append(-100)\n",
    "        else:\n",
    "            try:\n",
    "                label_ids.append(1 if label_all_tokens else -100)\n",
    "            except:\n",
    "                label_ids.append(-100)\n",
    "        previous_word_idx = word_idx\n",
    "    return label_ids\n",
    "\n",
    "def evaluate_one_text(model, sentence):\n",
    "    use_cuda = torch.cuda.is_available()\n",
    "    use_mps = torch.backends.mps.is_available()\n",
    "    \n",
    "    device = torch.device(\"mps\" if use_mps else \"cpu\")\n",
    "\n",
    "    if use_mps:\n",
    "        model.to(device)\n",
    "    elif use_cuda:\n",
    "        model = model.cuda()\n",
    "\n",
    "    print(f\"Running on: {device}\")\n",
    "\n",
    "    text = tokenizer(sentence, padding='max_length', max_length=512, truncation=True, return_tensors=\"pt\")\n",
    "\n",
    "    mask = text['attention_mask'].to(device)\n",
    "    input_id = text['input_ids'].to(device)\n",
    "    label_ids = torch.Tensor(align_word_ids(sentence, label_all_tokens=False)).unsqueeze(0).to(device)\n",
    "\n",
    "    logits = model(input_id, mask, None)\n",
    "    logits_clean = logits[0][label_ids != -100]\n",
    "\n",
    "    predictions = logits_clean.argmax(dim=1).tolist()\n",
    "    prediction_label = [ids_to_labels[i] for i in predictions]\n",
    "    print(sentence)\n",
    "    print(prediction_label)"
   ]
  },
  {
   "cell_type": "code",
   "execution_count": 31,
   "metadata": {},
   "outputs": [
    {
     "name": "stdout",
     "output_type": "stream",
     "text": [
      "Running on: mps\n",
      "昨日、 韓国人でいっぱいの船が日本に着きました。 外務省の上川陽子が危機を「もう解けた事態」と呼びました。\n",
      "['O', 'O', 'O', 'O', 'O', 'O', 'O', 'O', 'O', 'O', 'O', 'O', 'O', 'O', 'O', 'O', 'O', 'O', 'O', 'B-PER', 'I-PER', 'I-PER', 'I-PER', 'O', 'O', 'O', 'O', 'O', 'O', 'O', 'O', 'O', 'O', 'O', 'O', 'O', 'O', 'O']\n"
     ]
    }
   ],
   "source": [
    "evaluate_one_text(model, \"昨日、 韓国人でいっぱいの船が日本に着きました。 外務省の上川陽子が危機を「もう解けた事態」と呼びました。\")"
   ]
  },
  {
   "cell_type": "code",
   "execution_count": 19,
   "metadata": {},
   "outputs": [],
   "source": [
    "#torch.save(model.state_dict(), 'models/ger_rom_model.pth')"
   ]
  },
  {
   "cell_type": "code",
   "execution_count": 72,
   "metadata": {},
   "outputs": [
    {
     "name": "stderr",
     "output_type": "stream",
     "text": [
      "Some weights of BertForTokenClassification were not initialized from the model checkpoint at bert-base-multilingual-cased and are newly initialized: ['classifier.bias', 'classifier.weight']\n",
      "You should probably TRAIN this model on a down-stream task to be able to use it for predictions and inference.\n"
     ]
    },
    {
     "data": {
      "text/plain": [
       "BertModel(\n",
       "  (bert): BertForTokenClassification(\n",
       "    (bert): BertModel(\n",
       "      (embeddings): BertEmbeddings(\n",
       "        (word_embeddings): Embedding(119547, 768, padding_idx=0)\n",
       "        (position_embeddings): Embedding(512, 768)\n",
       "        (token_type_embeddings): Embedding(2, 768)\n",
       "        (LayerNorm): LayerNorm((768,), eps=1e-12, elementwise_affine=True)\n",
       "        (dropout): Dropout(p=0.1, inplace=False)\n",
       "      )\n",
       "      (encoder): BertEncoder(\n",
       "        (layer): ModuleList(\n",
       "          (0-11): 12 x BertLayer(\n",
       "            (attention): BertAttention(\n",
       "              (self): BertSdpaSelfAttention(\n",
       "                (query): Linear(in_features=768, out_features=768, bias=True)\n",
       "                (key): Linear(in_features=768, out_features=768, bias=True)\n",
       "                (value): Linear(in_features=768, out_features=768, bias=True)\n",
       "                (dropout): Dropout(p=0.1, inplace=False)\n",
       "              )\n",
       "              (output): BertSelfOutput(\n",
       "                (dense): Linear(in_features=768, out_features=768, bias=True)\n",
       "                (LayerNorm): LayerNorm((768,), eps=1e-12, elementwise_affine=True)\n",
       "                (dropout): Dropout(p=0.1, inplace=False)\n",
       "              )\n",
       "            )\n",
       "            (intermediate): BertIntermediate(\n",
       "              (dense): Linear(in_features=768, out_features=3072, bias=True)\n",
       "              (intermediate_act_fn): GELUActivation()\n",
       "            )\n",
       "            (output): BertOutput(\n",
       "              (dense): Linear(in_features=3072, out_features=768, bias=True)\n",
       "              (LayerNorm): LayerNorm((768,), eps=1e-12, elementwise_affine=True)\n",
       "              (dropout): Dropout(p=0.1, inplace=False)\n",
       "            )\n",
       "          )\n",
       "        )\n",
       "      )\n",
       "    )\n",
       "    (dropout): Dropout(p=0.1, inplace=False)\n",
       "    (classifier): Linear(in_features=768, out_features=7, bias=True)\n",
       "  )\n",
       ")"
      ]
     },
     "execution_count": 72,
     "metadata": {},
     "output_type": "execute_result"
    }
   ],
   "source": [
    "import torch\n",
    "\n",
    "test_model = BertModel(len(unique_labels))\n",
    "test_model.load_state_dict(torch.load('models/var_model.pth'))\n",
    "test_model.eval()"
   ]
  },
  {
   "cell_type": "code",
   "execution_count": 75,
   "metadata": {},
   "outputs": [
    {
     "name": "stdout",
     "output_type": "stream",
     "text": [
      "Running on: mps\n",
      "In 2023, Elon Musk met with executives from Google at their headquarters in Mountain View, California, to discuss advancements in artificial intelligence.\n",
      "['O', 'O', 'O', 'B-PER', 'O', 'O', 'O', 'O', 'O', 'B-ORG', 'O', 'O', 'O', 'O', 'B-LOC', 'I-LOC', 'I-LOC', 'I-LOC', 'O', 'O', 'O', 'O', 'O', 'O', 'O', 'O']\n"
     ]
    }
   ],
   "source": [
    "evaluate_one_text(test_model, \"In 2023, Elon Musk met with executives from Google at their headquarters in Mountain View, California, to discuss advancements in artificial intelligence.\")"
   ]
  },
  {
   "cell_type": "code",
   "execution_count": null,
   "metadata": {},
   "outputs": [],
   "source": []
  }
 ],
 "metadata": {
  "kernelspec": {
   "display_name": "Python 3 (ipykernel)",
   "language": "python",
   "name": "python3"
  },
  "language_info": {
   "codemirror_mode": {
    "name": "ipython",
    "version": 3
   },
   "file_extension": ".py",
   "mimetype": "text/x-python",
   "name": "python",
   "nbconvert_exporter": "python",
   "pygments_lexer": "ipython3",
   "version": "3.11.9"
  }
 },
 "nbformat": 4,
 "nbformat_minor": 4
}
